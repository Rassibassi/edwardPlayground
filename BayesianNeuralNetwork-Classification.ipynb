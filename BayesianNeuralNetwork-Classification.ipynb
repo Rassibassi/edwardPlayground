{
 "cells": [
  {
   "cell_type": "code",
   "execution_count": 1,
   "metadata": {},
   "outputs": [
    {
     "name": "stderr",
     "output_type": "stream",
     "text": [
      "/home/rasmus/.conda/envs/tflow15/lib/python3.6/site-packages/h5py/__init__.py:34: FutureWarning: Conversion of the second argument of issubdtype from `float` to `np.floating` is deprecated. In future, it will be treated as `np.float64 == np.dtype(float).type`.\n",
      "  from ._conv import register_converters as _register_converters\n"
     ]
    }
   ],
   "source": [
    "%matplotlib inline\n",
    "import edward as ed\n",
    "import numpy as np\n",
    "import tensorflow as tf\n",
    "import matplotlib.pyplot as plt\n",
    "\n",
    "from edward.models import Normal, OneHotCategorical"
   ]
  },
  {
   "cell_type": "code",
   "execution_count": 2,
   "metadata": {},
   "outputs": [
    {
     "name": "stdout",
     "output_type": "stream",
     "text": [
      "x_data shape:  (500, 1)\n",
      "oneHot shape:  (500, 2)\n"
     ]
    }
   ],
   "source": [
    "# Parameters\n",
    "K = 2 # 'K'lusters\n",
    "sigma2 = np.array(0.5) # variance of noise\n",
    "nData = 500 # samples\n",
    "activation = tf.tanh\n",
    "n_hidden = 4 # nHidden units\n",
    "mu = np.array([-1.,1.])\n",
    "# Numpy data - Gaussian mixture and corresponding OneHot vectors\n",
    "def data(mu,K,nData):\n",
    "    x_id = np.random.randint(0,K,(1,nData))    \n",
    "    x_data = mu[x_id].T\n",
    "    x_data = x_data + np.random.normal(0,sigma2,(nData,1))\n",
    "    oneHot = np.squeeze(np.eye(K,K,dtype=np.int32)[x_id,:])\n",
    "    return x_data,oneHot\n",
    "\n",
    "x_data,oneHot=data(mu,K,nData)\n",
    "print('x_data shape: ',x_data.shape)\n",
    "print('oneHot shape: ',oneHot.shape)"
   ]
  },
  {
   "cell_type": "code",
   "execution_count": 3,
   "metadata": {
    "collapsed": true
   },
   "outputs": [],
   "source": [
    "# Model\n",
    "def neural_network(X):\n",
    "    h = activation(tf.matmul(X, W_0) + b_0)\n",
    "    h = tf.matmul(h, W_1) + b_1\n",
    "    return h\n",
    "with tf.name_scope(\"model\"):\n",
    "    X = tf.placeholder(tf.float32, [nData,1], name=\"X\")\n",
    "    W_0 = Normal(loc=tf.zeros([1, n_hidden], dtype=tf.float32), scale=tf.ones([1, n_hidden], dtype=tf.float32), name=\"W_0\")\n",
    "    W_1 = Normal(loc=tf.zeros([n_hidden, K], dtype=tf.float32), scale=tf.ones([n_hidden, K], dtype=tf.float32), name=\"W_1\")\n",
    "    b_0 = Normal(loc=tf.zeros(n_hidden, dtype=tf.float32), scale=tf.ones(n_hidden, dtype=tf.float32), name=\"b_0\")\n",
    "    b_1 = Normal(loc=tf.zeros(K, dtype=tf.float32), scale=tf.ones(K, dtype=tf.float32), name=\"b_1\")    \n",
    "    Y = OneHotCategorical(logits=neural_network(X), name=\"out\")"
   ]
  },
  {
   "cell_type": "code",
   "execution_count": 4,
   "metadata": {
    "collapsed": true
   },
   "outputs": [],
   "source": [
    "# Posterior\n",
    "with tf.variable_scope(\"posterior\"):\n",
    "    with tf.variable_scope(\"qW_0\"):\n",
    "        loc = tf.get_variable(\"loc\", [1, n_hidden])\n",
    "        scale = tf.nn.softplus(tf.get_variable(\"scale\", [1, n_hidden]))\n",
    "        qW_0 = Normal(loc=loc, scale=scale)\n",
    "    with tf.variable_scope(\"qW_1\"):\n",
    "        loc = tf.get_variable(\"loc\", [n_hidden, K])\n",
    "        scale = tf.nn.softplus(tf.get_variable(\"scale\", [n_hidden, K]))\n",
    "        qW_1 = Normal(loc=loc, scale=scale)\n",
    "    with tf.variable_scope(\"qb_0\"):\n",
    "        loc = tf.get_variable(\"loc\", [n_hidden])\n",
    "        scale = tf.nn.softplus(tf.get_variable(\"scale\", [n_hidden]))\n",
    "        qb_0 = Normal(loc=loc, scale=scale)\n",
    "    with tf.variable_scope(\"qb_1\"):\n",
    "        loc = tf.get_variable(\"loc\", [K])\n",
    "        scale = tf.nn.softplus(tf.get_variable(\"scale\", [1]))\n",
    "        qb_1 = Normal(loc=loc, scale=scale)"
   ]
  },
  {
   "cell_type": "code",
   "execution_count": 5,
   "metadata": {},
   "outputs": [
    {
     "name": "stderr",
     "output_type": "stream",
     "text": [
      "/home/rasmus/.conda/envs/tflow15/lib/python3.6/site-packages/edward/util/random_variables.py:52: FutureWarning: Conversion of the second argument of issubdtype from `float` to `np.floating` is deprecated. In future, it will be treated as `np.float64 == np.dtype(float).type`.\n",
      "  not np.issubdtype(value.dtype, np.float) and \\\n",
      "/home/rasmus/.conda/envs/tflow15/lib/python3.6/site-packages/edward/util/random_variables.py:53: FutureWarning: Conversion of the second argument of issubdtype from `int` to `np.signedinteger` is deprecated. In future, it will be treated as `np.int64 == np.dtype(int).type`.\n",
      "  not np.issubdtype(value.dtype, np.int) and \\\n"
     ]
    },
    {
     "name": "stdout",
     "output_type": "stream",
     "text": [
      "WARNING:tensorflow:From /home/rasmus/.conda/envs/tflow15/lib/python3.6/site-packages/tensorflow/contrib/distributions/python/ops/onehot_categorical.py:201: softmax_cross_entropy_with_logits (from tensorflow.python.ops.nn_ops) is deprecated and will be removed in a future version.\n",
      "Instructions for updating:\n",
      "\n",
      "Future major versions of TensorFlow will allow gradients to flow\n",
      "into the labels input on backprop by default.\n",
      "\n",
      "See tf.nn.softmax_cross_entropy_with_logits_v2.\n",
      "\n"
     ]
    }
   ],
   "source": [
    "# Inference\n",
    "inference = ed.KLqp({W_0: qW_0, b_0: qb_0,\n",
    "                     W_1: qW_1, b_1: qb_1,}, data={X:x_data,Y:oneHot})\n",
    "inference.initialize(n_iter=1000)"
   ]
  },
  {
   "cell_type": "code",
   "execution_count": 6,
   "metadata": {},
   "outputs": [
    {
     "name": "stdout",
     "output_type": "stream",
     "text": [
      "{'t': 1, 'loss': 493.37875}\n",
      "{'t': 101, 'loss': 47.00905}\n",
      "{'t': 201, 'loss': 43.181732}\n",
      "{'t': 301, 'loss': 52.77098}\n",
      "{'t': 401, 'loss': 45.263283}\n",
      "{'t': 501, 'loss': 58.483208}\n",
      "{'t': 601, 'loss': 46.642334}\n",
      "{'t': 701, 'loss': 46.931034}\n",
      "{'t': 801, 'loss': 49.16552}\n",
      "{'t': 901, 'loss': 48.551994}\n"
     ]
    },
    {
     "data": {
      "text/plain": [
       "[<matplotlib.lines.Line2D at 0x7f1e08a90470>]"
      ]
     },
     "execution_count": 6,
     "metadata": {},
     "output_type": "execute_result"
    },
    {
     "data": {
      "image/png": "[encoded data removed]",
      "text/plain": [
       "<matplotlib.figure.Figure at 0x7f1e08ad1eb8>"
      ]
     },
     "metadata": {},
     "output_type": "display_data"
    }
   ],
   "source": [
    "# Run\n",
    "sess = ed.get_session()\n",
    "init = tf.global_variables_initializer()\n",
    "init.run()\n",
    "learning_curve = []\n",
    "for _ in range(inference.n_iter):\n",
    "    info_dict = inference.update()\n",
    "    if _%100 == 0:\n",
    "        print(info_dict)\n",
    "    learning_curve.append(info_dict['loss'])\n",
    "plt.plot(learning_curve)"
   ]
  },
  {
   "cell_type": "code",
   "execution_count": 7,
   "metadata": {},
   "outputs": [
    {
     "name": "stderr",
     "output_type": "stream",
     "text": [
      "/home/rasmus/.conda/envs/tflow15/lib/python3.6/site-packages/edward/util/random_variables.py:52: FutureWarning: Conversion of the second argument of issubdtype from `float` to `np.floating` is deprecated. In future, it will be treated as `np.float64 == np.dtype(float).type`.\n",
      "  not np.issubdtype(value.dtype, np.float) and \\\n",
      "/home/rasmus/.conda/envs/tflow15/lib/python3.6/site-packages/edward/util/random_variables.py:53: FutureWarning: Conversion of the second argument of issubdtype from `int` to `np.signedinteger` is deprecated. In future, it will be treated as `np.int64 == np.dtype(int).type`.\n",
      "  not np.issubdtype(value.dtype, np.int) and \\\n"
     ]
    },
    {
     "name": "stdout",
     "output_type": "stream",
     "text": [
      "Train accuracy:  0.984\n",
      "Test accuracy:  0.974\n"
     ]
    }
   ],
   "source": [
    "# Evaluation\n",
    "Y_post = ed.copy(Y, {W_0: qW_0, b_0: qb_0,\n",
    "                     W_1: qW_1, b_1: qb_1,})\n",
    "\n",
    "print('Train accuracy: ',ed.evaluate('categorical_accuracy', data={X:x_data,Y_post:oneHot}))\n",
    "x_data_test,oneHot_test=data(mu,K,nData)\n",
    "print('Test accuracy: ',ed.evaluate('categorical_accuracy', data={X:x_data_test,Y_post:oneHot_test}))"
   ]
  }
 ],
 "metadata": {
  "kernelspec": {
   "display_name": "Python 3",
   "language": "python",
   "name": "python3"
  },
  "language_info": {
   "codemirror_mode": {
    "name": "ipython",
    "version": 3
   },
   "file_extension": ".py",
   "mimetype": "text/x-python",
   "name": "python",
   "nbconvert_exporter": "python",
   "pygments_lexer": "ipython3",
   "version": "3.6.3"
  }
 },
 "nbformat": 4,
 "nbformat_minor": 2
}
